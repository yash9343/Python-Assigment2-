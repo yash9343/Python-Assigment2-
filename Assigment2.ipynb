{
  "nbformat": 4,
  "nbformat_minor": 0,
  "metadata": {
    "colab": {
      "provenance": []
    },
    "kernelspec": {
      "name": "python3",
      "display_name": "Python 3"
    },
    "language_info": {
      "name": "python"
    }
  },
  "cells": [
    {
      "cell_type": "markdown",
      "source": [
        "Q1 What are data structures, and why are they important?\n",
        "\n",
        "Ans] Data structures is the way or storing, organizing, and managing the data so it can be used efficiently.\n",
        "\n",
        "Why data structures are importnant>\n",
        "\n",
        "-> Efficient data access:- Helps retrieve and update data quickly.\n",
        "-> Memory optimization:- Uses memory in the best way possible.\n",
        "-> Better problem solving:- some problem can be solved efficiently if we use the right data structure(eg. using a queue for a print task list).\n",
        "\n",
        "-> Code clarity → Organizing data well makes your code easier to read and maintain.\n",
        "\n"
      ],
      "metadata": {
        "id": "m798OqGL3XOI"
      }
    },
    {
      "cell_type": "markdown",
      "source": [
        "Q2 Explain the difference between mutable and immutable data types with examples?\n",
        "\n",
        "Ans] Immutable data type:-\n",
        "\n",
        "These are data types that cannot be change and  update after creation is called immutable data types(eg. Tuple,str).\n",
        "\n",
        "Mutable data types:-\n",
        "\n",
        "These are datatypes that  can change and update after creation is called mutable data types(eg. list,dict,set).\n"
      ],
      "metadata": {
        "id": "mJlSNIah6B5U"
      }
    },
    {
      "cell_type": "markdown",
      "source": [
        "Q3 What are the main differences between lists and tuples in Python?\n",
        "\n",
        "Ans]\n",
        "\n",
        "-Tuple is Immutable (can't be change after creation).\n",
        "-List is mutable (can be change after creation)."
      ],
      "metadata": {
        "id": "YFwmRIe97-hI"
      }
    },
    {
      "cell_type": "markdown",
      "source": [
        "Q4 Describe how dictionaries store data?\n",
        "\n",
        "Ans] Dictionaries store data in the form of key-value pairs.\n"
      ],
      "metadata": {
        "id": "kmTMS92Z8jvD"
      }
    },
    {
      "cell_type": "code",
      "source": [
        "# Example:\n",
        "dict = {\"Name\": \"yash\",\"course\": \"Data Analystics\", \"Age\": 21}\n",
        "print(dict)"
      ],
      "metadata": {
        "colab": {
          "base_uri": "https://localhost:8080/"
        },
        "id": "hZz61wiL9Ffa",
        "outputId": "bfb2a3c6-5582-4786-fc9e-3486546e12f6"
      },
      "execution_count": 2,
      "outputs": [
        {
          "output_type": "stream",
          "name": "stdout",
          "text": [
            "{'Name': 'yash', 'course': 'Data Analystics', 'Age': 21}\n"
          ]
        }
      ]
    },
    {
      "cell_type": "markdown",
      "source": [
        "Q5 Why might you use a set instead of a list in Python?\n",
        "\n",
        "Ans] We can use set instead of list because sets is several times better than list.\n",
        "\n",
        "-set store unique data where list can store duplicate data.\n",
        "\n",
        "-sets are unordered and lists are ordered.\n"
      ],
      "metadata": {
        "id": "QifHhGwc9gpF"
      }
    },
    {
      "cell_type": "markdown",
      "source": [
        "Q6 What is a string in Python, and how is it different from a list?\n",
        "\n",
        "Ans] Strings:-  A string is a sequence of characters enclosed in single quotes ('), double quotes (\"), or triple quotes (''' or \"\"\").\n",
        "\n",
        "lists:- A list is an ordered collection of elements that can be changed after creation.\n",
        "\n",
        "-Strings are only for text and cannot be changed in place.\n",
        "\n",
        "-Lists can store any type of data and can be changed in place.\n",
        "\n"
      ],
      "metadata": {
        "id": "t3IsYkhM-m2j"
      }
    },
    {
      "cell_type": "markdown",
      "source": [
        "Q7 How do tuples ensure data integrity in Python?\n",
        "\n",
        "Ans] Tuples ensure data integrity in Python because they are immutable, meaning their values cannot be changed after creation.\n",
        "\n",
        "This immutability prevents accidental modifications, making them ideal for storing fixed or constant data."
      ],
      "metadata": {
        "id": "codqBQi4ABMM"
      }
    },
    {
      "cell_type": "markdown",
      "source": [
        "Q8 What is a hash table, and how does it relate to dictionaries in Python?\n",
        "\n",
        "Ans] A hash table is a data structure that stores data in key–value pairs and uses a hash function to quickly find the location of a value based on its key.\n",
        "\n",
        "In Python, dictionaries (dict) are implemented internally using hash tables.\n",
        "\n",
        "\n",
        "How they relate:\n",
        "\n",
        "In a dictionary, when you store a value with a key:\n",
        "\n",
        "Python applies a hash function to the key.\n",
        "\n",
        "This hash value decides where in memory the value will be stored.\n"
      ],
      "metadata": {
        "id": "Q8JTHhjEAh18"
      }
    },
    {
      "cell_type": "markdown",
      "source": [
        "Q9 Can lists contain different data types in Python?\n",
        "\n",
        "Ans] Yes, list can contain different data types.\n",
        "\n",
        "eg. list = [1, 2, \"yash\", True, false, 2.22,]"
      ],
      "metadata": {
        "id": "Cbo_BxTmBTWa"
      }
    },
    {
      "cell_type": "markdown",
      "source": [
        "Q10 Explain why strings are immutable in Python?\n",
        "\n",
        "Ans] Strings are immutable in Python because they cannot be changed after creation, which makes them memory-efficient, secure, and hashable for use in dictionaries."
      ],
      "metadata": {
        "id": "ivu605wiB879"
      }
    },
    {
      "cell_type": "markdown",
      "source": [
        "Q11 What advantages do dictionaries offer over lists for certain tasks?\n",
        "\n",
        "Ans]Advantages of dictionaries over lists:\n",
        "\n",
        "-> Faster lookups – Dictionaries use hash tables, so searching by key is O(1) on average, while lists require O(n) search.\n",
        "\n",
        "-> Key-based access – You can store and retrieve values using meaningful keys instead of numeric indexes.\n",
        "\n",
        "-> No duplicate keys – Ensures unique identifiers for data.\n",
        "\n",
        "-> Better data organization – Ideal for representing structured data like records."
      ],
      "metadata": {
        "id": "W8qB66V_CQmj"
      }
    },
    {
      "cell_type": "markdown",
      "source": [
        "Q12  Describe a scenario where using a tuple would be preferable over a list?\n",
        "\n",
        "Ans] Use a tuple instead of a list when we need to store fixed, unchangeable data — for example, geographic coordinates or days of the week — to ensure the data remains unchanged."
      ],
      "metadata": {
        "id": "PzUMDkXhCyqg"
      }
    },
    {
      "cell_type": "markdown",
      "source": [
        "Q13 How do sets handle duplicate values in Python?\n",
        "\n",
        "Ans] Sets automatically removes the duplicate values."
      ],
      "metadata": {
        "id": "Yh7Njh1UDNud"
      }
    },
    {
      "cell_type": "markdown",
      "source": [
        "Q14 How does the “in” keyword work differently for lists and dictionaries?\n",
        "\n",
        "Ans] The in keyword in Python is used to check for membership, but its behavior depends on the data type:\n",
        "\n",
        "-> For lists (and other sequences like strings, tuples):\n",
        "in checks whether a specific value is present in the sequence.\n",
        "\n",
        "-> For dictionaries:\n",
        "in checks whether a specific key exists in the dictionary, not the value."
      ],
      "metadata": {
        "id": "wRRwapY-Dmk_"
      }
    },
    {
      "cell_type": "markdown",
      "source": [
        "Q15 Can you modify the elements of a tuple? Explain why or why not.\n",
        "\n",
        "Ans] We cannot modify the elements of a tuple because tuples are immutable in Python.\n",
        "\n",
        "Once a tuple is created, its elements are stored in fixed memory locations, and Python does not allow changing them to ensure data integrity and hashability (so tuples can be used as dictionary keys)."
      ],
      "metadata": {
        "id": "WOOeFJfEEKba"
      }
    },
    {
      "cell_type": "markdown",
      "source": [
        "Q16 What is a nested dictionary, and give an example of its use case?\n",
        "\n",
        "Ans] A nested dictionary is a dictionary that contains another dictionary as a value for one or more of its keys.\n",
        "\n",
        "It’s useful for storing structured, hierarchical data (data inside data)."
      ],
      "metadata": {
        "id": "XmyT7LjcEp6B"
      }
    },
    {
      "cell_type": "markdown",
      "source": [
        "Q17  Describe the time complexity of accessing elements in a dictionary.\n",
        "\n",
        "Ans] Accessing elements in a dictionary has an average time complexity of O(1), meaning it takes constant time regardless of the dictionary size.\n",
        "\n",
        "This speed comes from the dictionary’s hash table structure, which uses the key’s hash value to find the element directly.\n",
        "\n",
        "However:\n",
        "\n",
        "-> Average case: O(1) (very fast)\n",
        "\n",
        "-> Worst case: O(n) (rare, happens when many keys have the same hash → hash collision)"
      ],
      "metadata": {
        "id": "0VgVzed0FKnS"
      }
    },
    {
      "cell_type": "markdown",
      "source": [
        "Q18 In what situations are lists preferred over dictionaries?\n",
        "\n",
        "Ans] when we don't want to store our data in the form of key-value pairs we can preferred list."
      ],
      "metadata": {
        "id": "bJU_zFbtFk0p"
      }
    },
    {
      "cell_type": "markdown",
      "source": [
        "Q19 Why are dictionaries considered unordered, and how does that affect data retrieval?\n",
        "\n",
        "Ans] Dictionaries are considered unordered (in versions before Python 3.7) because they store data using a hash table, where the position of each key–value pair depends on its hash value, not the order of insertion.\n",
        "\n",
        "Effect on data retrieval:\n",
        "\n",
        "The retrieval is done using the key’s hash, so you can get a value quickly (O(1) time) without knowing its position.\n",
        "\n",
        "You cannot rely on the order of items for logical meaning (in older Python versions).\n",
        "\n",
        "In Python 3.7+, insertion order is preserved for iteration, but dictionaries are still conceptually unordered because ordering is not their main purpose — fast lookups"
      ],
      "metadata": {
        "id": "j4XrkTcsGBKL"
      }
    },
    {
      "cell_type": "markdown",
      "source": [
        "Q20 Explain the difference between a list and a dictionary in terms of data retrieval.\n",
        "\n",
        "Ans] Difference in data retrieval:\n",
        "\n",
        "-> List: Retrieval is done by index position (numeric), e.g., my_list[0]. You need to know the element’s position. Retrieval time is O(1) for direct indexing but searching for a value is O(n).\n",
        "\n",
        "-> Dictionary: Retrieval is done by key (unique identifier), e.g., my_dict[\"name\"]. You don’t need to know the position — just the key. Average retrieval time is O(1) because of hashing."
      ],
      "metadata": {
        "id": "CWa7eeLmG8Cf"
      }
    },
    {
      "cell_type": "markdown",
      "source": [
        "[PRACTICAL QUESTIONS]\n"
      ],
      "metadata": {
        "id": "rnMsjivgHfhI"
      }
    },
    {
      "cell_type": "markdown",
      "source": [
        "Q1 Write a code to create a string with your name and print it.\n",
        "\n",
        "Ans]"
      ],
      "metadata": {
        "id": "-Hcnw9qqHmEZ"
      }
    },
    {
      "cell_type": "code",
      "source": [
        "a = \"Yash Vishwakarma\"\n",
        "print(a)"
      ],
      "metadata": {
        "colab": {
          "base_uri": "https://localhost:8080/"
        },
        "id": "wx-4sjffHsgt",
        "outputId": "da4d40cf-f13a-4e70-ffbd-448e012f9dc8"
      },
      "execution_count": 3,
      "outputs": [
        {
          "output_type": "stream",
          "name": "stdout",
          "text": [
            "Yash Vishwakarma\n"
          ]
        }
      ]
    },
    {
      "cell_type": "markdown",
      "source": [
        "Q2 Write a code to find the length of the string \"Hello World\".\n",
        "\n",
        "Ans]"
      ],
      "metadata": {
        "id": "_7iY_Y9hH6qY"
      }
    },
    {
      "cell_type": "code",
      "source": [
        "yash = \"Hello World\"\n",
        "print(len(yash))"
      ],
      "metadata": {
        "colab": {
          "base_uri": "https://localhost:8080/"
        },
        "id": "mhgKfQ5gIE36",
        "outputId": "f8a03c3a-5cab-41c9-8a44-4b6870c819ab"
      },
      "execution_count": 4,
      "outputs": [
        {
          "output_type": "stream",
          "name": "stdout",
          "text": [
            "11\n"
          ]
        }
      ]
    },
    {
      "cell_type": "markdown",
      "source": [
        "Q3 Write a code to slice the first 3 characters from the string \"Python Programming\".\n",
        "\n",
        "Ans]\n"
      ],
      "metadata": {
        "id": "uqnP-v8_IPVn"
      }
    },
    {
      "cell_type": "code",
      "source": [
        "yash = \"Python Programming\"\n",
        "\n",
        "first_three = yash[:3]\n",
        "print(first_three)\n"
      ],
      "metadata": {
        "colab": {
          "base_uri": "https://localhost:8080/"
        },
        "id": "YTUzLXfWIeWF",
        "outputId": "52226db3-2be3-480e-abf1-2469d4168bb7"
      },
      "execution_count": 5,
      "outputs": [
        {
          "output_type": "stream",
          "name": "stdout",
          "text": [
            "Pyt\n"
          ]
        }
      ]
    },
    {
      "cell_type": "markdown",
      "source": [
        "Q4 Write a code to convert the string \"hello\" to uppercase.\n",
        "\n",
        "Ans]"
      ],
      "metadata": {
        "id": "HUlIjnVVIxRf"
      }
    },
    {
      "cell_type": "code",
      "source": [
        "yash = \"hello\"\n",
        "\n",
        "uppercase = yash.upper()\n",
        "print(uppercase)"
      ],
      "metadata": {
        "colab": {
          "base_uri": "https://localhost:8080/"
        },
        "id": "LClQChWRI7ds",
        "outputId": "9582cec4-eca7-4177-aabc-ed8734b916f6"
      },
      "execution_count": 6,
      "outputs": [
        {
          "output_type": "stream",
          "name": "stdout",
          "text": [
            "HELLO\n"
          ]
        }
      ]
    },
    {
      "cell_type": "markdown",
      "source": [
        "Q5 Write a code to replace the word \"apple\" with \"orange\" in the string \"I like apple\".\n",
        "\n",
        "Ans]"
      ],
      "metadata": {
        "id": "SACRYRkyJFz1"
      }
    },
    {
      "cell_type": "code",
      "source": [
        "A = (\"i like orange\")\n",
        "\n",
        "change = A.replace(\"orange\", \"apple\")\n",
        "print(change)"
      ],
      "metadata": {
        "colab": {
          "base_uri": "https://localhost:8080/"
        },
        "id": "fEm5SPiSJP5P",
        "outputId": "d419e692-9f6d-4c64-ef92-36b8a25da102"
      },
      "execution_count": 7,
      "outputs": [
        {
          "output_type": "stream",
          "name": "stdout",
          "text": [
            "i like apple\n"
          ]
        }
      ]
    },
    {
      "cell_type": "markdown",
      "source": [
        "Q6 Write a code to create a list with numbers 1 to 5 and print it.\n",
        "\n",
        "Ans]"
      ],
      "metadata": {
        "id": "PlJ2MdOJKQAq"
      }
    },
    {
      "cell_type": "code",
      "source": [
        "numbers = [1, 2, 3, 4, 5]\n",
        "print(numbers)\n"
      ],
      "metadata": {
        "colab": {
          "base_uri": "https://localhost:8080/"
        },
        "id": "I7NYfBiJKhVb",
        "outputId": "496424e2-f6b9-4a6a-af5e-15ba282639ea"
      },
      "execution_count": 8,
      "outputs": [
        {
          "output_type": "stream",
          "name": "stdout",
          "text": [
            "[1, 2, 3, 4, 5]\n"
          ]
        }
      ]
    },
    {
      "cell_type": "markdown",
      "source": [
        "Q7  Write a code to append the number 10 to the list [1, 2, 3, 4].\n",
        "\n",
        "Ans]"
      ],
      "metadata": {
        "id": "hzX28qjfKjU4"
      }
    },
    {
      "cell_type": "code",
      "source": [
        "list = [1,2,3,4]\n",
        "\n",
        "list.append(10)\n",
        "print(list)"
      ],
      "metadata": {
        "colab": {
          "base_uri": "https://localhost:8080/"
        },
        "id": "5MOjyk3RKvFq",
        "outputId": "493dd163-7991-419b-fb14-f94c3a57823c"
      },
      "execution_count": 10,
      "outputs": [
        {
          "output_type": "stream",
          "name": "stdout",
          "text": [
            "[1, 2, 3, 4, 10]\n"
          ]
        }
      ]
    },
    {
      "cell_type": "markdown",
      "source": [
        "Q8 Write a code to remove the number 3 from the list [1, 2, 3, 4, 5].\n",
        "\n",
        "Ans]"
      ],
      "metadata": {
        "id": "7GHUh_5GLCjs"
      }
    },
    {
      "cell_type": "code",
      "source": [
        "l = [1,2,3,4,5]\n",
        "l.remove(3)\n",
        "print(l)"
      ],
      "metadata": {
        "colab": {
          "base_uri": "https://localhost:8080/"
        },
        "id": "FjtAzpM4LMF3",
        "outputId": "46c22ebf-e79b-4a2d-81b9-0c55b40b9290"
      },
      "execution_count": 11,
      "outputs": [
        {
          "output_type": "stream",
          "name": "stdout",
          "text": [
            "[1, 2, 4, 5]\n"
          ]
        }
      ]
    },
    {
      "cell_type": "markdown",
      "source": [
        "Q9 Write a code to access the second element in the list ['a', 'b', 'c', 'd'].\n",
        "\n",
        "Ans]"
      ],
      "metadata": {
        "id": "Hqb_7wsrLWOV"
      }
    },
    {
      "cell_type": "code",
      "source": [
        "lst = ['a', 'b', 'c', 'd']\n",
        "a = lst[1]\n",
        "print(a)"
      ],
      "metadata": {
        "colab": {
          "base_uri": "https://localhost:8080/"
        },
        "id": "Wu6zClnGLmrn",
        "outputId": "c4b7339b-a717-462c-f68c-10315167f009"
      },
      "execution_count": 12,
      "outputs": [
        {
          "output_type": "stream",
          "name": "stdout",
          "text": [
            "b\n"
          ]
        }
      ]
    },
    {
      "cell_type": "markdown",
      "source": [
        "Q10 Write a code to reverse the list [10, 20, 30, 40, 50].\n",
        "\n",
        "Ans]"
      ],
      "metadata": {
        "id": "57rgqkcgLyxS"
      }
    },
    {
      "cell_type": "code",
      "source": [
        "list = [10, 20, 30, 40, 50]\n",
        "list.reverse()\n",
        "print(list)\n"
      ],
      "metadata": {
        "colab": {
          "base_uri": "https://localhost:8080/"
        },
        "id": "wQSQIq7FL8D6",
        "outputId": "e21c9a5f-2470-4b43-82f8-c2d208a831f7"
      },
      "execution_count": 15,
      "outputs": [
        {
          "output_type": "stream",
          "name": "stdout",
          "text": [
            "[50, 40, 30, 20, 10]\n"
          ]
        }
      ]
    },
    {
      "cell_type": "markdown",
      "source": [
        "Q11  Write a code to create a tuple with the elements 100, 200, 300 and print it.\n",
        "\n",
        "Ans]"
      ],
      "metadata": {
        "id": "qFr_6h7-MQt0"
      }
    },
    {
      "cell_type": "code",
      "source": [
        "t = (100,200,300)\n",
        "print(t)"
      ],
      "metadata": {
        "colab": {
          "base_uri": "https://localhost:8080/"
        },
        "id": "S20-R8HgMZz9",
        "outputId": "7c426135-7e7a-4fdb-9e56-76bc92e1282e"
      },
      "execution_count": 18,
      "outputs": [
        {
          "output_type": "stream",
          "name": "stdout",
          "text": [
            "(100, 200, 300)\n"
          ]
        }
      ]
    },
    {
      "cell_type": "markdown",
      "source": [
        "Q12  Write a code to access the second-to-last element of the tuple ('red', 'green', 'blue', 'yellow').\n",
        "\n",
        "Ans]\n"
      ],
      "metadata": {
        "id": "sPhVCDbZMlRs"
      }
    },
    {
      "cell_type": "code",
      "source": [
        "tup = ('red', 'green', 'blue', 'yellow')\n",
        "\n",
        "second_to_last = tup[1:]\n",
        "print(second_to_last)"
      ],
      "metadata": {
        "colab": {
          "base_uri": "https://localhost:8080/"
        },
        "id": "PFUdeiZzMyQU",
        "outputId": "28addf8a-cba0-403c-99e6-eb8ed613cb78"
      },
      "execution_count": 19,
      "outputs": [
        {
          "output_type": "stream",
          "name": "stdout",
          "text": [
            "('green', 'blue', 'yellow')\n"
          ]
        }
      ]
    },
    {
      "cell_type": "markdown",
      "source": [
        "Q13 Write a code to find the minimum number in the tuple (10, 20, 5, 15).\n",
        "\n",
        "Ans]"
      ],
      "metadata": {
        "id": "iOKODoxxNGoj"
      }
    },
    {
      "cell_type": "code",
      "source": [
        "a = (10, 20, 5, 15)\n",
        "min_number = min(a)\n",
        "print(min_number)"
      ],
      "metadata": {
        "colab": {
          "base_uri": "https://localhost:8080/"
        },
        "id": "zgWVL8mRNNfc",
        "outputId": "7e0b67f3-c8d0-4ad5-8418-9ee8ec61b201"
      },
      "execution_count": 20,
      "outputs": [
        {
          "output_type": "stream",
          "name": "stdout",
          "text": [
            "5\n"
          ]
        }
      ]
    },
    {
      "cell_type": "markdown",
      "source": [
        "Q14 Write a code to find the index of the element \"cat\" in the tuple ('dog', 'cat', 'rabbit').\n",
        "\n",
        "\n",
        "Ans]"
      ],
      "metadata": {
        "id": "ey_nXmV8NVt1"
      }
    },
    {
      "cell_type": "code",
      "source": [
        "tup = ('dog', 'cat', 'rabbit')\n",
        "\n",
        "index = tup.index('cat')\n",
        "print(index)\n"
      ],
      "metadata": {
        "colab": {
          "base_uri": "https://localhost:8080/"
        },
        "id": "ZvbEzJoQNgvc",
        "outputId": "4723268c-6912-460e-b7d3-3ec7c90fa91f"
      },
      "execution_count": 21,
      "outputs": [
        {
          "output_type": "stream",
          "name": "stdout",
          "text": [
            "1\n"
          ]
        }
      ]
    },
    {
      "cell_type": "markdown",
      "source": [
        "Q15 Write a code to create a tuple containing three different fruits and check if \"kiwi\" is in it.\n",
        "\n",
        "Ans]"
      ],
      "metadata": {
        "id": "dsBwvnNmNy3x"
      }
    },
    {
      "cell_type": "code",
      "source": [
        "a = (\"yash\",\"damini\", \"kiwi\")\n",
        "print(\"kiwi\" in a)"
      ],
      "metadata": {
        "colab": {
          "base_uri": "https://localhost:8080/"
        },
        "id": "q-8LzvsjN6i1",
        "outputId": "b794f10c-63f4-4c30-a5af-d83383b055d0"
      },
      "execution_count": 22,
      "outputs": [
        {
          "output_type": "stream",
          "name": "stdout",
          "text": [
            "True\n"
          ]
        }
      ]
    },
    {
      "cell_type": "markdown",
      "source": [
        "Q16  Write a code to create a set with the elements 'a', 'b', 'c' and print it.\n",
        "\n",
        "Ans]"
      ],
      "metadata": {
        "id": "ENMIEGW-qSHx"
      }
    },
    {
      "cell_type": "code",
      "source": [
        "set = {'a', 'b', 'c'}\n",
        "print(set)"
      ],
      "metadata": {
        "colab": {
          "base_uri": "https://localhost:8080/"
        },
        "id": "9Jsp0k8jqdO9",
        "outputId": "ab2f130d-8289-45d8-a017-bbd3377d9ab6"
      },
      "execution_count": 1,
      "outputs": [
        {
          "output_type": "stream",
          "name": "stdout",
          "text": [
            "{'a', 'c', 'b'}\n"
          ]
        }
      ]
    },
    {
      "cell_type": "markdown",
      "source": [
        "Q17  Write a code to clear all elements from the set {1, 2, 3, 4, 5}.\n",
        "\n",
        "Ans]"
      ],
      "metadata": {
        "id": "oXJLQll1qnl1"
      }
    },
    {
      "cell_type": "code",
      "source": [
        "s = {1, 2, 3, 4, 5}\n",
        "s.clear()\n",
        "print(s)\n"
      ],
      "metadata": {
        "colab": {
          "base_uri": "https://localhost:8080/"
        },
        "id": "au35g8YzqwBm",
        "outputId": "2f425d56-1c76-4591-bf64-cf6cb71f488b"
      },
      "execution_count": 3,
      "outputs": [
        {
          "output_type": "stream",
          "name": "stdout",
          "text": [
            "set()\n"
          ]
        }
      ]
    },
    {
      "cell_type": "markdown",
      "source": [
        "Q18 Write a code to remove the element 4 from the set {1, 2, 3, 4}.\n",
        "\n",
        "Ans]"
      ],
      "metadata": {
        "id": "nhV78YvgrBfz"
      }
    },
    {
      "cell_type": "code",
      "source": [
        "s = {1, 2, 3, 4}\n",
        "s.remove(1)\n",
        "s.remove(2)\n",
        "s.remove(3)\n",
        "s.remove(4)\n",
        "print(s)"
      ],
      "metadata": {
        "colab": {
          "base_uri": "https://localhost:8080/"
        },
        "id": "q-j7Ui7ZrOB1",
        "outputId": "649e22e6-e86d-473a-a29a-1668524cf77a"
      },
      "execution_count": 6,
      "outputs": [
        {
          "output_type": "stream",
          "name": "stdout",
          "text": [
            "set()\n"
          ]
        }
      ]
    },
    {
      "cell_type": "markdown",
      "source": [
        "Q19  Write a code to find the union of two sets {1, 2, 3} and {3, 4, 5}.\n",
        "\n",
        "Ans]"
      ],
      "metadata": {
        "id": "RE6D4Rbtr1G2"
      }
    },
    {
      "cell_type": "code",
      "source": [
        "a = {1,2,3}\n",
        "b = {3,4,5}\n",
        "\n",
        "union = a.union(b)\n",
        "print(union)"
      ],
      "metadata": {
        "colab": {
          "base_uri": "https://localhost:8080/"
        },
        "id": "IrLyS5-nsbot",
        "outputId": "cdb6422f-996e-45e1-9ef5-0adbca89c4ee"
      },
      "execution_count": 7,
      "outputs": [
        {
          "output_type": "stream",
          "name": "stdout",
          "text": [
            "{1, 2, 3, 4, 5}\n"
          ]
        }
      ]
    },
    {
      "cell_type": "markdown",
      "source": [
        "Q20 Write a code to find the intersection of two sets {1, 2, 3} and {2, 3, 4}.\n",
        "\n",
        "Ans]"
      ],
      "metadata": {
        "id": "z4H7ceOVs8ZY"
      }
    },
    {
      "cell_type": "code",
      "source": [
        "yash = {1,2,3}\n",
        "damini = {2,3,4}\n",
        "\n",
        "intersection = yash.intersection(damini)\n",
        "print(intersection)"
      ],
      "metadata": {
        "colab": {
          "base_uri": "https://localhost:8080/"
        },
        "id": "Fdjj31FHtKqF",
        "outputId": "6a998667-7cce-4e55-8073-336443fec7ad"
      },
      "execution_count": 8,
      "outputs": [
        {
          "output_type": "stream",
          "name": "stdout",
          "text": [
            "{2, 3}\n"
          ]
        }
      ]
    },
    {
      "cell_type": "markdown",
      "source": [
        "Q21  Write a code to create a dictionary with the keys \"name\", \"age\", and \"city\", and print it.\n",
        "\n",
        "Ans]"
      ],
      "metadata": {
        "id": "l_fJTfR-tb9d"
      }
    },
    {
      "cell_type": "code",
      "source": [
        "dict = {\"name\": \"yash\", \"age\": 21, \"city\": \"surat\"}\n",
        "print(dict)"
      ],
      "metadata": {
        "colab": {
          "base_uri": "https://localhost:8080/"
        },
        "id": "A4rBYUKQtjZj",
        "outputId": "7042b646-db8d-4742-80fe-59b4d8ec046d"
      },
      "execution_count": 9,
      "outputs": [
        {
          "output_type": "stream",
          "name": "stdout",
          "text": [
            "{'name': 'yash', 'age': 21, 'city': 'surat'}\n"
          ]
        }
      ]
    },
    {
      "cell_type": "markdown",
      "source": [
        "Q22  Write a code to add a new key-value pair \"country\": \"USA\" to the dictionary {'name': 'John', 'age': 25}.\n",
        "\n",
        "Ans]"
      ],
      "metadata": {
        "id": "LNgec_WptsIj"
      }
    },
    {
      "cell_type": "code",
      "source": [
        "yash = {'name':'john','age':25}\n",
        "yash[\"country\"] = \"bangladesh\"\n",
        "print(yash)"
      ],
      "metadata": {
        "colab": {
          "base_uri": "https://localhost:8080/"
        },
        "id": "8qavm9int07Y",
        "outputId": "42433bdb-d242-408d-ca93-e65410e7d6c3"
      },
      "execution_count": 10,
      "outputs": [
        {
          "output_type": "stream",
          "name": "stdout",
          "text": [
            "{'name': 'john', 'age': 25, 'country': 'bangladesh'}\n"
          ]
        }
      ]
    },
    {
      "cell_type": "markdown",
      "source": [
        "Q23  Write a code to access the value associated with the key \"name\" in the dictionary {'name': 'Alice', 'age': 30}.\n",
        "\n",
        "Ans]\n"
      ],
      "metadata": {
        "id": "6RDL5gQhuI0m"
      }
    },
    {
      "cell_type": "code",
      "source": [
        "dict = {'name': 'Alice', 'age': 30}\n",
        "\n",
        "print(dict['name'])"
      ],
      "metadata": {
        "colab": {
          "base_uri": "https://localhost:8080/"
        },
        "id": "3GUCD7n_ucWT",
        "outputId": "63ccaf3c-b152-4868-9fb7-e8eb3ad8e656"
      },
      "execution_count": 11,
      "outputs": [
        {
          "output_type": "stream",
          "name": "stdout",
          "text": [
            "Alice\n"
          ]
        }
      ]
    },
    {
      "cell_type": "markdown",
      "source": [
        "Q24 Write a code to remove the key \"age\" from the dictionary {'name': 'Bob', 'age': 22, 'city': 'New York'}.\n",
        "\n",
        "Ans]"
      ],
      "metadata": {
        "id": "BUWCB1HoupEC"
      }
    },
    {
      "cell_type": "code",
      "source": [
        "yash =  {'name': 'Bob', 'age': 22, 'city': 'New York'}\n",
        "yash.pop('age')\n",
        "print(yash)"
      ],
      "metadata": {
        "colab": {
          "base_uri": "https://localhost:8080/"
        },
        "id": "Wd9R-_U1ux72",
        "outputId": "830c1b6c-8e05-4dd4-9bef-9e226afdd121"
      },
      "execution_count": 15,
      "outputs": [
        {
          "output_type": "stream",
          "name": "stdout",
          "text": [
            "{'name': 'Bob', 'city': 'New York'}\n"
          ]
        }
      ]
    },
    {
      "cell_type": "markdown",
      "source": [
        "Q25  Write a code to check if the key \"city\" exists in the dictionary {'name': 'Alice', 'city': 'Paris'}.\n",
        "\n",
        "Ans]"
      ],
      "metadata": {
        "id": "zFyPAbytvdKi"
      }
    },
    {
      "cell_type": "code",
      "source": [
        "a = {'name': 'Alice', 'city': 'Paris'}\n",
        "print('city' in a)"
      ],
      "metadata": {
        "colab": {
          "base_uri": "https://localhost:8080/"
        },
        "id": "GLloWG9OvneX",
        "outputId": "a10e0fdd-0de1-4482-f6f5-c84fde16ddbc"
      },
      "execution_count": 16,
      "outputs": [
        {
          "output_type": "stream",
          "name": "stdout",
          "text": [
            "True\n"
          ]
        }
      ]
    },
    {
      "cell_type": "markdown",
      "source": [
        "Q26 Write a code to create a list, a tuple, and a dictionary, and print them all.\n",
        "\n",
        "Ans]"
      ],
      "metadata": {
        "id": "dG8EkiOovwN0"
      }
    },
    {
      "cell_type": "code",
      "source": [
        "list = [\"yash\",\"damini\",1]\n",
        "tuple = (1,2,\"kashmeer\",\"mandir\")\n",
        "dict = {\"name\": \"yash\", \"age\": 21, \"city\": \"surat\"}\n",
        "\n",
        "print(list)\n",
        "print(tuple)\n",
        "print(dict)"
      ],
      "metadata": {
        "colab": {
          "base_uri": "https://localhost:8080/"
        },
        "id": "tN-tRHIEwv91",
        "outputId": "552128ad-4165-47db-e2f0-c5c4aa306da4"
      },
      "execution_count": 17,
      "outputs": [
        {
          "output_type": "stream",
          "name": "stdout",
          "text": [
            "['yash', 'damini', 1]\n",
            "(1, 2, 'kashmeer', 'mandir')\n",
            "{'name': 'yash', 'age': 21, 'city': 'surat'}\n"
          ]
        }
      ]
    },
    {
      "cell_type": "markdown",
      "source": [
        "Q27  Write a code to create a list of 5 random numbers between 1 and 100, sort it in ascending order, and print the\n",
        "result.(replaced)\n",
        "\n",
        "Ans]"
      ],
      "metadata": {
        "id": "rS5IhRTJxA2d"
      }
    },
    {
      "cell_type": "code",
      "source": [
        "list = [12,34,45,32,67]\n",
        "list.sort()\n",
        "print(list)\n",
        "\n"
      ],
      "metadata": {
        "colab": {
          "base_uri": "https://localhost:8080/"
        },
        "id": "IxrtPc6HxPBf",
        "outputId": "925467b9-0458-4aa5-bc31-fd403100c4fc"
      },
      "execution_count": 24,
      "outputs": [
        {
          "output_type": "stream",
          "name": "stdout",
          "text": [
            "[12, 32, 34, 45, 67]\n"
          ]
        }
      ]
    },
    {
      "cell_type": "markdown",
      "source": [
        "Q28 Write a code to create a list with strings and print the element at the third index.\n",
        "\n",
        "Ans]\n"
      ],
      "metadata": {
        "id": "NiGBSYdJyWXu"
      }
    },
    {
      "cell_type": "code",
      "source": [
        "list = ['radha','shree radha','jai radha','shree radha radha']\n",
        "print(list[3])"
      ],
      "metadata": {
        "colab": {
          "base_uri": "https://localhost:8080/"
        },
        "id": "Z2n48THAydiJ",
        "outputId": "ecfbfcb6-aa6a-4e31-f11c-a2e814336700"
      },
      "execution_count": 25,
      "outputs": [
        {
          "output_type": "stream",
          "name": "stdout",
          "text": [
            "shree radha radha\n"
          ]
        }
      ]
    },
    {
      "cell_type": "markdown",
      "source": [
        "Q29  Write a code to combine two dictionaries into one and print the result.\n",
        "\n",
        "Ans]"
      ],
      "metadata": {
        "id": "-y4-ZMJiyzvz"
      }
    },
    {
      "cell_type": "code",
      "source": [
        "dict1 = {'name': 'Alice', 'age': 30}\n",
        "dict2 = {'city': 'Paris', 'country': 'France'}\n",
        "\n",
        "dict1.update(dict2)\n",
        "print(dict1)"
      ],
      "metadata": {
        "colab": {
          "base_uri": "https://localhost:8080/"
        },
        "id": "RcKXMeg3zDYO",
        "outputId": "13b9421c-61d2-407f-e1ed-e808ea6c3aec"
      },
      "execution_count": 26,
      "outputs": [
        {
          "output_type": "stream",
          "name": "stdout",
          "text": [
            "{'name': 'Alice', 'age': 30, 'city': 'Paris', 'country': 'France'}\n"
          ]
        }
      ]
    },
    {
      "cell_type": "markdown",
      "source": [
        "Q30  Write a code to convert a list of strings into a set.\n",
        "\n",
        "Ans]"
      ],
      "metadata": {
        "id": "8ouuOzGHzKYU"
      }
    },
    {
      "cell_type": "code",
      "source": [
        "\n",
        "string_list = [\"apple\", \"banana\", \"cherry\", \"apple\"]\n",
        "\n",
        "string_set = {item for item in string_list}\n",
        "\n",
        "print(string_set)\n"
      ],
      "metadata": {
        "colab": {
          "base_uri": "https://localhost:8080/"
        },
        "id": "YAb7AgzW1J0I",
        "outputId": "320c6ccd-7b3c-419a-b352-28e6e50e9e4a"
      },
      "execution_count": 39,
      "outputs": [
        {
          "output_type": "stream",
          "name": "stdout",
          "text": [
            "{'banana', 'apple', 'cherry'}\n"
          ]
        }
      ]
    }
  ]
}